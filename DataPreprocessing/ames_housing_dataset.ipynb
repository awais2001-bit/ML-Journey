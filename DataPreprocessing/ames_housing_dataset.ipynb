{
 "cells": [
  {
   "cell_type": "code",
   "execution_count": 170,
   "metadata": {},
   "outputs": [],
   "source": [
    "import pandas as pd\n",
    "import numpy as np"
   ]
  },
  {
   "cell_type": "code",
   "execution_count": 171,
   "metadata": {},
   "outputs": [],
   "source": [
    "dataset = pd.read_csv('AmesHousing.csv')"
   ]
  },
  {
   "cell_type": "code",
   "execution_count": 172,
   "metadata": {},
   "outputs": [
    {
     "name": "stdout",
     "output_type": "stream",
     "text": [
      "Order 0\n",
      "PID 0\n",
      "MS SubClass 0\n",
      "MS Zoning 0\n",
      "Lot Frontage 490\n",
      "Lot Area 0\n",
      "Street 0\n",
      "Alley 2732\n",
      "Lot Shape 0\n",
      "Land Contour 0\n",
      "Utilities 0\n",
      "Lot Config 0\n",
      "Land Slope 0\n",
      "Neighborhood 0\n",
      "Condition 1 0\n",
      "Condition 2 0\n",
      "Bldg Type 0\n",
      "House Style 0\n",
      "Overall Qual 0\n",
      "Overall Cond 0\n",
      "Year Built 0\n",
      "Year Remod/Add 0\n",
      "Roof Style 0\n",
      "Roof Matl 0\n",
      "Exterior 1st 0\n",
      "Exterior 2nd 0\n",
      "Mas Vnr Type 1775\n",
      "Mas Vnr Area 23\n",
      "Exter Qual 0\n",
      "Exter Cond 0\n",
      "Foundation 0\n",
      "Bsmt Qual 80\n",
      "Bsmt Cond 80\n",
      "Bsmt Exposure 83\n",
      "BsmtFin Type 1 80\n",
      "BsmtFin SF 1 1\n",
      "BsmtFin Type 2 81\n",
      "BsmtFin SF 2 1\n",
      "Bsmt Unf SF 1\n",
      "Total Bsmt SF 1\n",
      "Heating 0\n",
      "Heating QC 0\n",
      "Central Air 0\n",
      "Electrical 1\n",
      "1st Flr SF 0\n",
      "2nd Flr SF 0\n",
      "Low Qual Fin SF 0\n",
      "Gr Liv Area 0\n",
      "Bsmt Full Bath 2\n",
      "Bsmt Half Bath 2\n",
      "Full Bath 0\n",
      "Half Bath 0\n",
      "Bedroom AbvGr 0\n",
      "Kitchen AbvGr 0\n",
      "Kitchen Qual 0\n",
      "TotRms AbvGrd 0\n",
      "Functional 0\n",
      "Fireplaces 0\n",
      "Fireplace Qu 1422\n",
      "Garage Type 157\n",
      "Garage Yr Blt 159\n",
      "Garage Finish 159\n",
      "Garage Cars 1\n",
      "Garage Area 1\n",
      "Garage Qual 159\n",
      "Garage Cond 159\n",
      "Paved Drive 0\n",
      "Wood Deck SF 0\n",
      "Open Porch SF 0\n",
      "Enclosed Porch 0\n",
      "3Ssn Porch 0\n",
      "Screen Porch 0\n",
      "Pool Area 0\n",
      "Pool QC 2917\n",
      "Fence 2358\n",
      "Misc Feature 2824\n",
      "Misc Val 0\n",
      "Mo Sold 0\n",
      "Yr Sold 0\n",
      "Sale Type 0\n",
      "Sale Condition 0\n",
      "SalePrice 0\n"
     ]
    }
   ],
   "source": [
    "for col in dataset.columns:\n",
    "  count = dataset[col].isnull().sum()\n",
    "  print(col, count)"
   ]
  },
  {
   "cell_type": "code",
   "execution_count": 173,
   "metadata": {},
   "outputs": [],
   "source": [
    "\n",
    "\n",
    "dataset.drop(columns=['Roof Matl','Heating','Condition 2','Utilities','Order','PID','Alley', 'Misc Feature', 'Fence', 'Pool QC', 'Mas Vnr Type', 'Fireplace Qu'], inplace=True)"
   ]
  },
  {
   "cell_type": "code",
   "execution_count": 174,
   "metadata": {},
   "outputs": [],
   "source": [
    "X = dataset.drop('SalePrice', axis=1)\n",
    "y = dataset['SalePrice'].values"
   ]
  },
  {
   "cell_type": "code",
   "execution_count": 175,
   "metadata": {},
   "outputs": [],
   "source": [
    "numerical_cols = X.select_dtypes(include=['number']).columns\n",
    "categorical_cols = X.select_dtypes(include=['object']).columns"
   ]
  },
  {
   "cell_type": "code",
   "execution_count": 176,
   "metadata": {},
   "outputs": [],
   "source": [
    "# Imputer for numerical: Mean\n",
    "from sklearn.impute import SimpleImputer\n",
    "num_imputer = SimpleImputer(strategy='mean')\n",
    "X[numerical_cols] = num_imputer.fit_transform(X[numerical_cols])\n",
    "\n",
    "# Imputer for categorical: Most Frequent (mode)\n",
    "cat_imputer = SimpleImputer(strategy='most_frequent')\n",
    "X[categorical_cols] = cat_imputer.fit_transform(X[categorical_cols])\n"
   ]
  },
  {
   "cell_type": "code",
   "execution_count": 177,
   "metadata": {},
   "outputs": [
    {
     "name": "stdout",
     "output_type": "stream",
     "text": [
      "Binary Columns:\n",
      "['Street', 'Central Air']\n",
      "multi_valued_cols:\n",
      "['MS Zoning', 'Lot Shape', 'Land Contour', 'Lot Config', 'Land Slope', 'Neighborhood', 'Condition 1', 'Bldg Type', 'House Style', 'Roof Style', 'Exterior 1st', 'Exterior 2nd', 'Exter Qual', 'Exter Cond', 'Foundation', 'Bsmt Qual', 'Bsmt Cond', 'Bsmt Exposure', 'BsmtFin Type 1', 'BsmtFin Type 2', 'Heating QC', 'Electrical', 'Kitchen Qual', 'Functional', 'Garage Type', 'Garage Finish', 'Garage Qual', 'Garage Cond', 'Paved Drive', 'Sale Type', 'Sale Condition']\n"
     ]
    }
   ],
   "source": [
    "categorical_cols = X.select_dtypes(include=['object']).columns\n",
    "binary_cols = [col for col in categorical_cols if X[col].nunique(dropna=False) == 2]\n",
    "multi_valued_cols = [col for col in categorical_cols if X[col].nunique(dropna=False) > 2]\n",
    "\n",
    "print('Binary Columns:')\n",
    "print(binary_cols)\n",
    "\n",
    "print('multi_valued_cols:')\n",
    "print(multi_valued_cols)\n",
    "\n",
    "\n",
    "\n"
   ]
  },
  {
   "cell_type": "code",
   "execution_count": 178,
   "metadata": {},
   "outputs": [],
   "source": [
    "from sklearn.preprocessing import LabelEncoder\n",
    "\n",
    "le = LabelEncoder()\n",
    "for col in binary_cols:\n",
    "    X[col] = le.fit_transform(X[col])"
   ]
  },
  {
   "cell_type": "code",
   "execution_count": 179,
   "metadata": {},
   "outputs": [],
   "source": [
    "from sklearn.preprocessing import OneHotEncoder\n",
    "from sklearn.compose import ColumnTransformer\n",
    "\n",
    "ct = ColumnTransformer([('encode', OneHotEncoder(sparse_output=False, handle_unknown='ignore'), multi_valued_cols)], remainder='passthrough')\n",
    "\n"
   ]
  },
  {
   "cell_type": "code",
   "execution_count": 180,
   "metadata": {},
   "outputs": [
    {
     "name": "stdout",
     "output_type": "stream",
     "text": [
      "[[0.000e+00 0.000e+00 0.000e+00 ... 0.000e+00 5.000e+00 2.010e+03]\n",
      " [0.000e+00 0.000e+00 0.000e+00 ... 0.000e+00 6.000e+00 2.010e+03]\n",
      " [0.000e+00 0.000e+00 0.000e+00 ... 1.250e+04 6.000e+00 2.010e+03]\n",
      " ...\n",
      " [0.000e+00 0.000e+00 0.000e+00 ... 7.000e+02 7.000e+00 2.006e+03]\n",
      " [0.000e+00 0.000e+00 0.000e+00 ... 0.000e+00 4.000e+00 2.006e+03]\n",
      " [0.000e+00 0.000e+00 0.000e+00 ... 0.000e+00 1.100e+01 2.006e+03]]\n",
      "[215000 105000 172000 ... 132000 170000 188000]\n"
     ]
    }
   ],
   "source": [
    "X = ct.fit_transform(X)\n",
    "print(X)\n",
    "\n",
    "print(y)\n"
   ]
  },
  {
   "cell_type": "code",
   "execution_count": 181,
   "metadata": {},
   "outputs": [],
   "source": [
    "from sklearn.model_selection import train_test_split\n",
    "X_train, X_test, y_train, y_test = train_test_split(X, y, test_size=0.2, random_state=42)"
   ]
  }
 ],
 "metadata": {
  "kernelspec": {
   "display_name": "Python 3",
   "language": "python",
   "name": "python3"
  },
  "language_info": {
   "codemirror_mode": {
    "name": "ipython",
    "version": 3
   },
   "file_extension": ".py",
   "mimetype": "text/x-python",
   "name": "python",
   "nbconvert_exporter": "python",
   "pygments_lexer": "ipython3",
   "version": "3.12.5"
  }
 },
 "nbformat": 4,
 "nbformat_minor": 2
}
